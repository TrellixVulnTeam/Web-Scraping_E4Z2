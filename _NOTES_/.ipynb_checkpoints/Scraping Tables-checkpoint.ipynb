{
 "cells": [
  {
   "cell_type": "code",
   "execution_count": 1,
   "metadata": {},
   "outputs": [],
   "source": [
    "from urllib.request import urlopen\n",
    "from bs4 import BeautifulSoup as bs\n",
    "import csv"
   ]
  },
  {
   "cell_type": "code",
   "execution_count": 35,
   "metadata": {},
   "outputs": [],
   "source": [
    "html = urlopen(\"https://en.wikipedia.org/wiki/Comparison_of_text_editors\")"
   ]
  },
  {
   "cell_type": "code",
   "execution_count": 242,
   "metadata": {},
   "outputs": [
    {
     "data": {
      "text/plain": [
       "200"
      ]
     },
     "execution_count": 242,
     "metadata": {},
     "output_type": "execute_result"
    }
   ],
   "source": [
    "html.status"
   ]
  },
  {
   "cell_type": "code",
   "execution_count": 37,
   "metadata": {},
   "outputs": [],
   "source": [
    "obj = bs(html)"
   ]
  },
  {
   "cell_type": "markdown",
   "metadata": {},
   "source": [
    "### We want to scrape first table"
   ]
  },
  {
   "cell_type": "code",
   "execution_count": 238,
   "metadata": {},
   "outputs": [
    {
     "data": {
      "text/plain": [
       "['Notepad',\n",
       " 'Creator',\n",
       " 'First public release',\n",
       " 'Latest stable version',\n",
       " 'Latest Release Date',\n",
       " 'Programming language',\n",
       " 'Cost (US$)',\n",
       " 'Software license',\n",
       " 'Open source',\n",
       " 'CLI available',\n",
       " 'Minimum installed size']"
      ]
     },
     "execution_count": 238,
     "metadata": {},
     "output_type": "execute_result"
    }
   ],
   "source": [
    "table_header = obj.find(\"tr\", {\"valign\":\"bottom\"}).get_text().strip(\"\\n\").replace(\"\\n\\n\", \",\").split(',')\n",
    "table_header.insert(0, \"Notepad\")\n",
    "table_header"
   ]
  },
  {
   "cell_type": "code",
   "execution_count": 255,
   "metadata": {},
   "outputs": [
    {
     "data": {
      "text/plain": [
       "'2004‑12‑10\\n'"
      ]
     },
     "execution_count": 255,
     "metadata": {},
     "output_type": "execute_result"
    }
   ],
   "source": [
    "list(obj.find(\"tr\", {\"valign\":\"bottom\"}).next_siblings)[5].findAll(\"td\")[3].text"
   ]
  },
  {
   "cell_type": "code",
   "execution_count": 273,
   "metadata": {},
   "outputs": [],
   "source": [
    "table_data = list(obj.find(\"tr\", {\"valign\":\"bottom\"}).next_siblings)\n",
    "\n",
    "def get_table(td):\n",
    "#     https://stackoverflow.com/questions/3348460/csv-file-written-with-python-has-blank-lines-between-each-row\n",
    "    with open(\"TextEditorsTable.csv\", \"w\", encoding=\"Utf-8\", newline=\"\") as file:\n",
    "        \n",
    "        writer = csv.writer(file) #creating writer object\n",
    "        writer.writerow(table_header)\n",
    "        \n",
    "        for i in td:\n",
    "            row_data = []  # to store table row data\n",
    "            try:\n",
    "                notepad = i.th.text.strip('\\n')\n",
    "                row_data.append(notepad)\n",
    "                row = i.findAll(\"td\")\n",
    "            except:\n",
    "                continue\n",
    "            else:\n",
    "                for data in row:\n",
    "                    row_data.append(data.text.strip('\\n'))\n",
    "#                 print(row_data)\n",
    "                writer.writerow(row_data)\n",
    "                \n",
    "get_table(table_data)"
   ]
  },
  {
   "cell_type": "code",
   "execution_count": null,
   "metadata": {},
   "outputs": [],
   "source": []
  }
 ],
 "metadata": {
  "kernelspec": {
   "display_name": "Python 3",
   "language": "python",
   "name": "python3"
  },
  "language_info": {
   "codemirror_mode": {
    "name": "ipython",
    "version": 3
   },
   "file_extension": ".py",
   "mimetype": "text/x-python",
   "name": "python",
   "nbconvert_exporter": "python",
   "pygments_lexer": "ipython3",
   "version": "3.7.6"
  }
 },
 "nbformat": 4,
 "nbformat_minor": 4
}
