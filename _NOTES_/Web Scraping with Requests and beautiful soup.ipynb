{
 "cells": [
  {
   "cell_type": "markdown",
   "metadata": {},
   "source": [
    "# Request"
   ]
  },
  {
   "cell_type": "code",
   "execution_count": 1,
   "metadata": {},
   "outputs": [],
   "source": [
    "from urllib.request import urlopen"
   ]
  },
  {
   "cell_type": "code",
   "execution_count": 2,
   "metadata": {},
   "outputs": [],
   "source": [
    "# requesting html of page1.html\n",
    "html = urlopen(\"http://pythonscraping.com/pages/page1.html\")"
   ]
  },
  {
   "cell_type": "code",
   "execution_count": 3,
   "metadata": {},
   "outputs": [
    {
     "data": {
      "text/plain": [
       "[('Date', 'Mon, 04 May 2020 17:58:46 GMT'),\n",
       " ('Server', 'Apache'),\n",
       " ('Last-Modified', 'Sat, 09 Jun 2018 19:15:58 GMT'),\n",
       " ('ETag', '\"4121bc8-234-56e3a58b39172\"'),\n",
       " ('Accept-Ranges', 'bytes'),\n",
       " ('Content-Length', '564'),\n",
       " ('Cache-Control', 'max-age=1209600'),\n",
       " ('Expires', 'Mon, 18 May 2020 17:58:46 GMT'),\n",
       " ('Connection', 'close'),\n",
       " ('Content-Type', 'text/html')]"
      ]
     },
     "execution_count": 3,
     "metadata": {},
     "output_type": "execute_result"
    }
   ],
   "source": [
    "html.getheaders()"
   ]
  },
  {
   "cell_type": "code",
   "execution_count": 4,
   "metadata": {},
   "outputs": [
    {
     "data": {
      "text/plain": [
       "'Mon, 04 May 2020 17:58:46 GMT'"
      ]
     },
     "execution_count": 4,
     "metadata": {},
     "output_type": "execute_result"
    }
   ],
   "source": [
    "html.getheader(\"Date\")"
   ]
  },
  {
   "cell_type": "code",
   "execution_count": 5,
   "metadata": {},
   "outputs": [
    {
     "data": {
      "text/plain": [
       "'http://pythonscraping.com/pages/page1.html'"
      ]
     },
     "execution_count": 5,
     "metadata": {},
     "output_type": "execute_result"
    }
   ],
   "source": [
    "html.geturl()"
   ]
  },
  {
   "cell_type": "code",
   "execution_count": 6,
   "metadata": {},
   "outputs": [
    {
     "data": {
      "text/plain": [
       "b'<html>\\n<head>\\n<title>A Useful Page</title>\\n</head>\\n<body>\\n<h1>An Interesting Title</h1>\\n<div>\\nLorem ipsum dolor sit amet, consectetur adipisicing elit, sed do eiusmod tempor incididunt ut labore et dolore magna aliqua. Ut enim ad minim veniam, quis nostrud exercitation ullamco laboris nisi ut aliquip ex ea commodo consequat. Duis aute irure dolor in reprehenderit in voluptate velit esse cillum dolore eu fugiat nulla pariatur. Excepteur sint occaecat cupidatat non proident, sunt in culpa qui officia deserunt mollit anim id est laborum.\\n</div>\\n</body>\\n</html>\\n'"
      ]
     },
     "execution_count": 6,
     "metadata": {},
     "output_type": "execute_result"
    }
   ],
   "source": [
    "html.read()"
   ]
  },
  {
   "cell_type": "markdown",
   "metadata": {},
   "source": [
    "# BeautifulSoup"
   ]
  },
  {
   "cell_type": "code",
   "execution_count": 11,
   "metadata": {},
   "outputs": [],
   "source": [
    "from urllib.request import urlopen"
   ]
  },
  {
   "cell_type": "code",
   "execution_count": 17,
   "metadata": {},
   "outputs": [],
   "source": [
    "from bs4 import BeautifulSoup as bs"
   ]
  },
  {
   "cell_type": "code",
   "execution_count": 24,
   "metadata": {},
   "outputs": [],
   "source": [
    "# request html of page1.html located at web_root/pages/page1.html\n",
    "html = urlopen(\"http://www.pythonscraping.com/exercises/exercise1.html\")"
   ]
  },
  {
   "cell_type": "code",
   "execution_count": 25,
   "metadata": {},
   "outputs": [
    {
     "data": {
      "text/plain": [
       "200"
      ]
     },
     "execution_count": 25,
     "metadata": {},
     "output_type": "execute_result"
    }
   ],
   "source": [
    "html.status"
   ]
  },
  {
   "cell_type": "code",
   "execution_count": 26,
   "metadata": {},
   "outputs": [
    {
     "data": {
      "text/plain": [
       "<html>\n",
       "<head>\n",
       "<title>A Useful Page</title>\n",
       "</head>\n",
       "<body>\n",
       "<h1>An Interesting Title</h1>\n",
       "<div>\n",
       "Lorem ipsum dolor sit amet, consectetur adipisicing elit, sed do eiusmod tempor incididunt ut labore et dolore magna aliqua. Ut enim ad minim veniam, quis nostrud exercitation ullamco laboris nisi ut aliquip ex ea commodo consequat. Duis aute irure dolor in reprehenderit in voluptate velit esse cillum dolore eu fugiat nulla pariatur. Excepteur sint occaecat cupidatat non proident, sunt in culpa qui officia deserunt mollit anim id est laborum.\n",
       "</div>\n",
       "</body>\n",
       "</html>"
      ]
     },
     "execution_count": 26,
     "metadata": {},
     "output_type": "execute_result"
    }
   ],
   "source": [
    "# we can see by using beautiful soup obtained html is well formatted where as when we did only html.read it was so messy\n",
    "bs(html.read())"
   ]
  },
  {
   "cell_type": "code",
   "execution_count": 29,
   "metadata": {},
   "outputs": [],
   "source": [
    "# you cannot read html twice\n",
    "html = urlopen(\"http://www.pythonscraping.com/exercises/exercise1.html\")\n",
    "obj = bs(html.read())"
   ]
  },
  {
   "cell_type": "code",
   "execution_count": 30,
   "metadata": {},
   "outputs": [
    {
     "data": {
      "text/plain": [
       "<h1>An Interesting Title</h1>"
      ]
     },
     "execution_count": 30,
     "metadata": {},
     "output_type": "execute_result"
    }
   ],
   "source": [
    "obj.h1"
   ]
  },
  {
   "cell_type": "code",
   "execution_count": 32,
   "metadata": {},
   "outputs": [
    {
     "data": {
      "text/plain": [
       "<h1>An Interesting Title</h1>"
      ]
     },
     "execution_count": 32,
     "metadata": {},
     "output_type": "execute_result"
    }
   ],
   "source": [
    "# we can also do\n",
    "obj.html.body.h1"
   ]
  },
  {
   "cell_type": "markdown",
   "metadata": {},
   "source": [
    "# Possible Errors\n",
    "- The page is not found on the server (or there was some error in retrieving it) -> “404 Page Not Found,” “500 Internal Server Error”  (HTTPError)\n",
    "- The server is not found -> returns null\n",
    "if we apply method(find tag) to null we get AttributeError\n"
   ]
  },
  {
   "cell_type": "markdown",
   "metadata": {},
   "source": [
    "we need to apply try and exception to prevent code break"
   ]
  },
  {
   "cell_type": "code",
   "execution_count": 34,
   "metadata": {},
   "outputs": [
    {
     "data": {
      "text/plain": [
       "NoneType"
      ]
     },
     "execution_count": 34,
     "metadata": {},
     "output_type": "execute_result"
    }
   ],
   "source": [
    "type(obj.tag_do_not_exit)"
   ]
  },
  {
   "cell_type": "code",
   "execution_count": 35,
   "metadata": {},
   "outputs": [
    {
     "ename": "AttributeError",
     "evalue": "'NoneType' object has no attribute 'another_tag'",
     "output_type": "error",
     "traceback": [
      "\u001b[1;31m---------------------------------------------------------------------------\u001b[0m",
      "\u001b[1;31mAttributeError\u001b[0m                            Traceback (most recent call last)",
      "\u001b[1;32m<ipython-input-35-2baac504de55>\u001b[0m in \u001b[0;36m<module>\u001b[1;34m\u001b[0m\n\u001b[1;32m----> 1\u001b[1;33m \u001b[0mobj\u001b[0m\u001b[1;33m.\u001b[0m\u001b[0mtag_do_not_exit\u001b[0m\u001b[1;33m.\u001b[0m\u001b[0manother_tag\u001b[0m\u001b[1;33m\u001b[0m\u001b[1;33m\u001b[0m\u001b[0m\n\u001b[0m",
      "\u001b[1;31mAttributeError\u001b[0m: 'NoneType' object has no attribute 'another_tag'"
     ]
    }
   ],
   "source": [
    "obj.tag_do_not_exit.another_tag"
   ]
  },
  {
   "cell_type": "markdown",
   "metadata": {},
   "source": [
    "# Handling all errors"
   ]
  },
  {
   "cell_type": "code",
   "execution_count": 37,
   "metadata": {},
   "outputs": [],
   "source": [
    "from urllib.error import HTTPError"
   ]
  },
  {
   "cell_type": "code",
   "execution_count": 42,
   "metadata": {},
   "outputs": [],
   "source": [
    "def getTitle(url):\n",
    "    try:\n",
    "        html = urlopen(url)\n",
    "    except HTTPError as e:\n",
    "        return None\n",
    "    try:\n",
    "        obj = bs(html.read())\n",
    "        title = obj.title\n",
    "    except AttributeError as e:\n",
    "        return None\n",
    "    return title"
   ]
  },
  {
   "cell_type": "code",
   "execution_count": 43,
   "metadata": {},
   "outputs": [
    {
     "data": {
      "text/plain": [
       "<title>A Useful Page</title>"
      ]
     },
     "execution_count": 43,
     "metadata": {},
     "output_type": "execute_result"
    }
   ],
   "source": [
    "getTitle(\"http://www.pythonscraping.com/exercises/exercise1.html\")"
   ]
  },
  {
   "cell_type": "markdown",
   "metadata": {},
   "source": [
    "# findAll \n",
    " - used to find the tag with specific attribute for eg.  bsObj(tagname, attribute)\n",
    " \n",
    "# Extracting text\n",
    " - get_text() method is used to find the text present in the extracted tag\n",
    " - try to keep data in tags as far as possible. converting them to text should be the last step"
   ]
  },
  {
   "cell_type": "code",
   "execution_count": 46,
   "metadata": {},
   "outputs": [],
   "source": [
    "html = urlopen(\"http://www.pythonscraping.com/pages/warandpeace.html\")"
   ]
  },
  {
   "cell_type": "code",
   "execution_count": 47,
   "metadata": {},
   "outputs": [],
   "source": [
    "obj = bs(html.read())"
   ]
  },
  {
   "cell_type": "code",
   "execution_count": 53,
   "metadata": {
    "scrolled": true
   },
   "outputs": [
    {
     "data": {
      "text/plain": [
       "[<span class=\"green\">Anna\n",
       " Pavlovna Scherer</span>,\n",
       " <span class=\"green\">Empress Marya\n",
       " Fedorovna</span>,\n",
       " <span class=\"green\">Prince Vasili Kuragin</span>,\n",
       " <span class=\"green\">Anna Pavlovna</span>,\n",
       " <span class=\"green\">St. Petersburg</span>,\n",
       " <span class=\"green\">the prince</span>,\n",
       " <span class=\"green\">Anna Pavlovna</span>,\n",
       " <span class=\"green\">Anna Pavlovna</span>,\n",
       " <span class=\"green\">the prince</span>,\n",
       " <span class=\"green\">the prince</span>,\n",
       " <span class=\"green\">the prince</span>,\n",
       " <span class=\"green\">Prince Vasili</span>,\n",
       " <span class=\"green\">Anna Pavlovna</span>,\n",
       " <span class=\"green\">Anna Pavlovna</span>,\n",
       " <span class=\"green\">the prince</span>,\n",
       " <span class=\"green\">Wintzingerode</span>,\n",
       " <span class=\"green\">King of Prussia</span>,\n",
       " <span class=\"green\">le Vicomte de Mortemart</span>,\n",
       " <span class=\"green\">Montmorencys</span>,\n",
       " <span class=\"green\">Rohans</span>,\n",
       " <span class=\"green\">Abbe Morio</span>,\n",
       " <span class=\"green\">the Emperor</span>,\n",
       " <span class=\"green\">the prince</span>,\n",
       " <span class=\"green\">Prince Vasili</span>,\n",
       " <span class=\"green\">Dowager Empress Marya Fedorovna</span>,\n",
       " <span class=\"green\">the baron</span>,\n",
       " <span class=\"green\">Anna Pavlovna</span>,\n",
       " <span class=\"green\">the Empress</span>,\n",
       " <span class=\"green\">the Empress</span>,\n",
       " <span class=\"green\">Anna Pavlovna's</span>,\n",
       " <span class=\"green\">Her Majesty</span>,\n",
       " <span class=\"green\">Baron\n",
       " Funke</span>,\n",
       " <span class=\"green\">The prince</span>,\n",
       " <span class=\"green\">Anna\n",
       " Pavlovna</span>,\n",
       " <span class=\"green\">the Empress</span>,\n",
       " <span class=\"green\">The prince</span>,\n",
       " <span class=\"green\">Anatole</span>,\n",
       " <span class=\"green\">the prince</span>,\n",
       " <span class=\"green\">The prince</span>,\n",
       " <span class=\"green\">Anna\n",
       " Pavlovna</span>,\n",
       " <span class=\"green\">Anna Pavlovna</span>]"
      ]
     },
     "execution_count": 53,
     "metadata": {},
     "output_type": "execute_result"
    }
   ],
   "source": [
    "tag = \"span\"\n",
    "attribute = {\"class\":\"green\"}\n",
    "obj.findAll(name=tag, attrs=attribute)"
   ]
  },
  {
   "cell_type": "code",
   "execution_count": 54,
   "metadata": {
    "scrolled": true
   },
   "outputs": [
    {
     "name": "stdout",
     "output_type": "stream",
     "text": [
      "Anna\n",
      "Pavlovna Scherer\n",
      "Empress Marya\n",
      "Fedorovna\n",
      "Prince Vasili Kuragin\n",
      "Anna Pavlovna\n",
      "St. Petersburg\n",
      "the prince\n",
      "Anna Pavlovna\n",
      "Anna Pavlovna\n",
      "the prince\n",
      "the prince\n",
      "the prince\n",
      "Prince Vasili\n",
      "Anna Pavlovna\n",
      "Anna Pavlovna\n",
      "the prince\n",
      "Wintzingerode\n",
      "King of Prussia\n",
      "le Vicomte de Mortemart\n",
      "Montmorencys\n",
      "Rohans\n",
      "Abbe Morio\n",
      "the Emperor\n",
      "the prince\n",
      "Prince Vasili\n",
      "Dowager Empress Marya Fedorovna\n",
      "the baron\n",
      "Anna Pavlovna\n",
      "the Empress\n",
      "the Empress\n",
      "Anna Pavlovna's\n",
      "Her Majesty\n",
      "Baron\n",
      "Funke\n",
      "The prince\n",
      "Anna\n",
      "Pavlovna\n",
      "the Empress\n",
      "The prince\n",
      "Anatole\n",
      "the prince\n",
      "The prince\n",
      "Anna\n",
      "Pavlovna\n",
      "Anna Pavlovna\n"
     ]
    }
   ],
   "source": [
    "noun = obj.findAll(name=tag, attrs=attribute)\n",
    "for i in noun:\n",
    "    print(i.get_text())"
   ]
  },
  {
   "cell_type": "markdown",
   "metadata": {},
   "source": [
    "**If <code>recursion</code> is set to True, the findAll function looks into children, and children’s children, for tags that match your parameters. If it is false, it will look only at the toplevel\n",
    "tags in your document.**"
   ]
  },
  {
   "cell_type": "code",
   "execution_count": 56,
   "metadata": {},
   "outputs": [
    {
     "data": {
      "text/plain": [
       "[<div id=\"text\">\n",
       " \"<span class=\"red\">Well, Prince, so Genoa and Lucca are now just family estates of the\n",
       " Buonapartes. But I warn you, if you don't tell me that this means war,\n",
       " if you still try to defend the infamies and horrors perpetrated by\n",
       " that Antichrist- I really believe he is Antichrist- I will have\n",
       " nothing more to do with you and you are no longer my friend, no longer\n",
       " my 'faithful slave,' as you call yourself! But how do you do? I see\n",
       " I have frightened you- sit down and tell me all the news.</span>\"\n",
       " <p></p>\n",
       " It was in July, 1805, and the speaker was the well-known <span class=\"green\">Anna\n",
       " Pavlovna Scherer</span>, maid of honor and favorite of the <span class=\"green\">Empress Marya\n",
       " Fedorovna</span>. With these words she greeted <span class=\"green\">Prince Vasili Kuragin</span>, a man\n",
       " of high rank and importance, who was the first to arrive at her\n",
       " reception. <span class=\"green\">Anna Pavlovna</span> had had a cough for some days. She was, as\n",
       " she said, suffering from la grippe; grippe being then a new word in\n",
       " <span class=\"green\">St. Petersburg</span>, used only by the elite.\n",
       " <p></p>\n",
       " All her invitations without exception, written in French, and\n",
       " delivered by a scarlet-liveried footman that morning, ran as follows:\n",
       " <p></p>\n",
       " \"<span class=\"red\">If you have nothing better to do, Count [or Prince], and if the\n",
       " prospect of spending an evening with a poor invalid is not too\n",
       " terrible, I shall be very charmed to see you tonight between 7 and 10-\n",
       " Annette Scherer.</span>\"\n",
       " <p></p>\n",
       " \"<span class=\"red\">Heavens! what a virulent attack!</span>\" replied <span class=\"green\">the prince</span>, not in the\n",
       " least disconcerted by this reception. He had just entered, wearing\n",
       " an embroidered court uniform, knee breeches, and shoes, and had\n",
       " stars on his breast and a serene expression on his flat face. He spoke\n",
       " in that refined French in which our grandfathers not only spoke but\n",
       " thought, and with the gentle, patronizing intonation natural to a\n",
       " man of importance who had grown old in society and at court. He went\n",
       " up to <span class=\"green\">Anna Pavlovna</span>, kissed her hand, presenting to her his bald,\n",
       " scented, and shining head, and complacently seated himself on the\n",
       " sofa.\n",
       " <p></p>\n",
       " \"<span class=\"red\">First of all, dear friend, tell me how you are. Set your friend's\n",
       " mind at rest,</span>\" said he without altering his tone, beneath the\n",
       " politeness and affected sympathy of which indifference and even\n",
       " irony could be discerned.\n",
       " <p></p>\n",
       " \"<span class=\"red\">Can one be well while suffering morally? Can one be calm in times\n",
       " like these if one has any feeling?</span>\" said <span class=\"green\">Anna Pavlovna</span>. \"<span class=\"red\">You are\n",
       " staying the whole evening, I hope?</span>\"\n",
       " <p></p>\n",
       " \"<span class=\"red\">And the fete at the English ambassador's? Today is Wednesday. I\n",
       " must put in an appearance there,</span>\" said <span class=\"green\">the prince</span>. \"<span class=\"red\">My daughter is\n",
       " coming for me to take me there.</span>\"\n",
       " <p></p>\n",
       " \"<span class=\"red\">I thought today's fete had been canceled. I confess all these\n",
       " festivities and fireworks are becoming wearisome.</span>\"\n",
       " <p></p>\n",
       " \"<span class=\"red\">If they had known that you wished it, the entertainment would\n",
       " have been put off,</span>\" said <span class=\"green\">the prince</span>, who, like a wound-up clock, by\n",
       " force of habit said things he did not even wish to be believed.\n",
       " <p></p>\n",
       " \"<span class=\"red\">Don't tease! Well, and what has been decided about Novosiltsev's\n",
       " dispatch? You know everything.</span>\"\n",
       " <p></p>\n",
       " \"<span class=\"red\">What can one say about it?</span>\" replied <span class=\"green\">the prince</span> in a cold,\n",
       " listless tone. \"<span class=\"red\">What has been decided? They have decided that\n",
       " Buonaparte has burnt his boats, and I believe that we are ready to\n",
       " burn ours.</span>\"\n",
       " <p></p>\n",
       " <span class=\"green\">Prince Vasili</span> always spoke languidly, like an actor repeating a\n",
       " stale part. <span class=\"green\">Anna Pavlovna</span> Scherer on the contrary, despite her forty\n",
       " years, overflowed with animation and impulsiveness. To be an\n",
       " enthusiast had become her social vocation and, sometimes even when she\n",
       " did not feel like it, she became enthusiastic in order not to\n",
       " disappoint the expectations of those who knew her. The subdued smile\n",
       " which, though it did not suit her faded features, always played\n",
       " round her lips expressed, as in a spoiled child, a continual\n",
       " consciousness of her charming defect, which she neither wished, nor\n",
       " could, nor considered it necessary, to correct.\n",
       " <p></p>\n",
       " In the midst of a conversation on political matters <span class=\"green\">Anna Pavlovna</span>\n",
       " burst out:\n",
       " <p></p>\n",
       " \"<span class=\"red\">Oh, don't speak to me of Austria. Perhaps I don't understand\n",
       " things, but Austria never has wished, and does not wish, for war.\n",
       " She is betraying us! Russia alone must save Europe. Our gracious\n",
       " sovereign recognizes his high vocation and will be true to it. That is\n",
       " the one thing I have faith in! Our good and wonderful sovereign has to\n",
       " perform the noblest role on earth, and he is so virtuous and noble\n",
       " that God will not forsake him. He will fulfill his vocation and\n",
       " crush the hydra of revolution, which has become more terrible than\n",
       " ever in the person of this murderer and villain! We alone must\n",
       " avenge the blood of the just one.... Whom, I ask you, can we rely\n",
       " on?... England with her commercial spirit will not and cannot\n",
       " understand the Emperor Alexander's loftiness of soul. She has\n",
       " refused to evacuate Malta. She wanted to find, and still seeks, some\n",
       " secret motive in our actions. What answer did Novosiltsev get? None.\n",
       " The English have not understood and cannot understand the\n",
       " self-abnegation of our Emperor who wants nothing for himself, but only\n",
       " desires the good of mankind. And what have they promised? Nothing! And\n",
       " what little they have promised they will not perform! Prussia has\n",
       " always declared that Buonaparte is invincible, and that all Europe\n",
       " is powerless before him.... And I don't believe a word that Hardenburg\n",
       " says, or Haugwitz either. This famous Prussian neutrality is just a\n",
       " trap. I have faith only in God and the lofty destiny of our adored\n",
       " monarch. He will save Europe!</span>\"\n",
       " <p></p>\n",
       " She suddenly paused, smiling at her own impetuosity.\n",
       " <p></p>\n",
       " \"<span class=\"red\">I think,</span>\" said <span class=\"green\">the prince</span> with a smile, \"<span class=\"red\">that if you had been\n",
       " sent instead of our dear <span class=\"green\">Wintzingerode</span> you would have captured the\n",
       " <span class=\"green\">King of Prussia</span>'s consent by assault. You are so eloquent. Will you\n",
       " give me a cup of tea?</span>\"\n",
       " <p></p>\n",
       " \"<span class=\"red\">In a moment. A propos,</span>\" she added, becoming calm again, \"<span class=\"red\">I am\n",
       " expecting two very interesting men tonight, <span class=\"green\">le Vicomte de Mortemart</span>,\n",
       " who is connected with the <span class=\"green\">Montmorencys</span> through the <span class=\"green\">Rohans</span>, one of\n",
       " the best French families. He is one of the genuine emigres, the good\n",
       " ones. And also the <span class=\"green\">Abbe Morio</span>. Do you know that profound thinker? He\n",
       " has been received by <span class=\"green\">the Emperor</span>. Had you heard?</span>\"\n",
       " <p></p>\n",
       " \"<span class=\"red\">I shall be delighted to meet them,</span>\" said <span class=\"green\">the prince</span>. \"<span class=\"red\">But tell me,</span>\"\n",
       " he added with studied carelessness as if it had only just occurred\n",
       " to him, though the question he was about to ask was the chief motive\n",
       " of his visit, \"<span class=\"red\">is it true that the Dowager Empress wants Baron Funke\n",
       " to be appointed first secretary at Vienna? The baron by all accounts\n",
       " is a poor creature.</span>\"\n",
       " <p></p>\n",
       " <span class=\"green\">Prince Vasili</span> wished to obtain this post for his son, but others\n",
       " were trying through the <span class=\"green\">Dowager Empress Marya Fedorovna</span> to secure it\n",
       " for <span class=\"green\">the baron</span>.\n",
       " <p></p>\n",
       " <span class=\"green\">Anna Pavlovna</span> almost closed her eyes to indicate that neither she\n",
       " nor anyone else had a right to criticize what <span class=\"green\">the Empress</span> desired or\n",
       " was pleased with.\n",
       " <p></p>\n",
       " \"<span class=\"red\">Baron Funke has been recommended to the Dowager Empress by her\n",
       " sister,</span>\" was all she said, in a dry and mournful tone.\n",
       " <p></p>\n",
       " As she named <span class=\"green\">the Empress</span>, <span class=\"green\">Anna Pavlovna's</span> face suddenly assumed an\n",
       " expression of profound and sincere devotion and respect mingled with\n",
       " sadness, and this occurred every time she mentioned her illustrious\n",
       " patroness. She added that <span class=\"green\">Her Majesty</span> had deigned to show <span class=\"green\">Baron\n",
       " Funke</span>, and again her face clouded over with sadness.\n",
       " <p></p>\n",
       " <span class=\"green\">The prince</span> was silent and looked indifferent. But, with the\n",
       " womanly and courtierlike quickness and tact habitual to her, <span class=\"green\">Anna\n",
       " Pavlovna</span> wished both to rebuke him (for daring to speak he had done of\n",
       " a man recommended to <span class=\"green\">the Empress</span>) and at the same time to console him,\n",
       " so she said:\n",
       " <p></p>\n",
       " \"<span class=\"red\">Now about your family. Do you know that since your daughter came\n",
       " out everyone has been enraptured by her? They say she is amazingly\n",
       " beautiful.</span>\"\n",
       " <p></p>\n",
       " <span class=\"green\">The prince</span> bowed to signify his respect and gratitude.\n",
       " <p></p>\n",
       " \"<span class=\"red\">I often think,</span>\" she continued after a short pause, drawing nearer\n",
       " to the prince and smiling amiably at him as if to show that\n",
       " political and social topics were ended and the time had come for\n",
       " intimate conversation- \"<span class=\"red\">I often think how unfairly sometimes the\n",
       " joys of life are distributed. Why has fate given you two such splendid\n",
       " children? I don't speak of <span class=\"green\">Anatole</span>, your youngest. I don't like\n",
       " him,</span>\" she added in a tone admitting of no rejoinder and raising her\n",
       " eyebrows. \"<span class=\"red\">Two such charming children. And really you appreciate\n",
       " them less than anyone, and so you don't deserve to have them.</span>\"\n",
       " <p></p>\n",
       " And she smiled her ecstatic smile.\n",
       " <p></p>\n",
       " \"<span class=\"red\">I can't help it,</span>\" said <span class=\"green\">the prince</span>. \"<span class=\"red\">Lavater would have said I\n",
       " lack the bump of paternity.</span>\"\n",
       " <p></p>\n",
       " \"<span class=\"red\">Don't joke; I mean to have a serious talk with you. Do you know I\n",
       " am dissatisfied with your younger son? Between ourselves</span>\" (and her\n",
       " face assumed its melancholy expression), \"<span class=\"red\">he was mentioned at Her\n",
       " Majesty's and you were pitied....</span>\"\n",
       " <p></p>\n",
       " <span class=\"green\">The prince</span> answered nothing, but she looked at him significantly,\n",
       " awaiting a reply. He frowned.\n",
       " <p></p>\n",
       " \"<span class=\"red\">What would you have me do?</span>\" he said at last. \"<span class=\"red\">You know I did all\n",
       " a father could for their education, and they have both turned out\n",
       " fools. Hippolyte is at least a quiet fool, but Anatole is an active\n",
       " one. That is the only difference between them.</span>\" He said this smiling\n",
       " in a way more natural and animated than usual, so that the wrinkles\n",
       " round his mouth very clearly revealed something unexpectedly coarse\n",
       " and unpleasant.\n",
       " <p></p>\n",
       " \"<span class=\"red\">And why are children born to such men as you? If you were not a\n",
       " father there would be nothing I could reproach you with,</span>\" said <span class=\"green\">Anna\n",
       " Pavlovna</span>, looking up pensively.\n",
       " <p></p>\n",
       " \"<span class=\"red\">I am your faithful slave and to you alone I can confess that my\n",
       " children are the bane of my life. It is the cross I have to bear. That\n",
       " is how I explain it to myself. It can't be helped!</span>\"\n",
       " <p></p>\n",
       " He said no more, but expressed his resignation to cruel fate by a\n",
       " gesture. <span class=\"green\">Anna Pavlovna</span> meditated.\n",
       " </div>]"
      ]
     },
     "execution_count": 56,
     "metadata": {},
     "output_type": "execute_result"
    }
   ],
   "source": [
    "obj.findAll(id=\"text\")  # keyword argument helps to select particular attribute"
   ]
  },
  {
   "cell_type": "code",
   "execution_count": 58,
   "metadata": {},
   "outputs": [
    {
     "data": {
      "text/plain": [
       "[<div id=\"text\">\n",
       " \"<span class=\"red\">Well, Prince, so Genoa and Lucca are now just family estates of the\n",
       " Buonapartes. But I warn you, if you don't tell me that this means war,\n",
       " if you still try to defend the infamies and horrors perpetrated by\n",
       " that Antichrist- I really believe he is Antichrist- I will have\n",
       " nothing more to do with you and you are no longer my friend, no longer\n",
       " my 'faithful slave,' as you call yourself! But how do you do? I see\n",
       " I have frightened you- sit down and tell me all the news.</span>\"\n",
       " <p></p>\n",
       " It was in July, 1805, and the speaker was the well-known <span class=\"green\">Anna\n",
       " Pavlovna Scherer</span>, maid of honor and favorite of the <span class=\"green\">Empress Marya\n",
       " Fedorovna</span>. With these words she greeted <span class=\"green\">Prince Vasili Kuragin</span>, a man\n",
       " of high rank and importance, who was the first to arrive at her\n",
       " reception. <span class=\"green\">Anna Pavlovna</span> had had a cough for some days. She was, as\n",
       " she said, suffering from la grippe; grippe being then a new word in\n",
       " <span class=\"green\">St. Petersburg</span>, used only by the elite.\n",
       " <p></p>\n",
       " All her invitations without exception, written in French, and\n",
       " delivered by a scarlet-liveried footman that morning, ran as follows:\n",
       " <p></p>\n",
       " \"<span class=\"red\">If you have nothing better to do, Count [or Prince], and if the\n",
       " prospect of spending an evening with a poor invalid is not too\n",
       " terrible, I shall be very charmed to see you tonight between 7 and 10-\n",
       " Annette Scherer.</span>\"\n",
       " <p></p>\n",
       " \"<span class=\"red\">Heavens! what a virulent attack!</span>\" replied <span class=\"green\">the prince</span>, not in the\n",
       " least disconcerted by this reception. He had just entered, wearing\n",
       " an embroidered court uniform, knee breeches, and shoes, and had\n",
       " stars on his breast and a serene expression on his flat face. He spoke\n",
       " in that refined French in which our grandfathers not only spoke but\n",
       " thought, and with the gentle, patronizing intonation natural to a\n",
       " man of importance who had grown old in society and at court. He went\n",
       " up to <span class=\"green\">Anna Pavlovna</span>, kissed her hand, presenting to her his bald,\n",
       " scented, and shining head, and complacently seated himself on the\n",
       " sofa.\n",
       " <p></p>\n",
       " \"<span class=\"red\">First of all, dear friend, tell me how you are. Set your friend's\n",
       " mind at rest,</span>\" said he without altering his tone, beneath the\n",
       " politeness and affected sympathy of which indifference and even\n",
       " irony could be discerned.\n",
       " <p></p>\n",
       " \"<span class=\"red\">Can one be well while suffering morally? Can one be calm in times\n",
       " like these if one has any feeling?</span>\" said <span class=\"green\">Anna Pavlovna</span>. \"<span class=\"red\">You are\n",
       " staying the whole evening, I hope?</span>\"\n",
       " <p></p>\n",
       " \"<span class=\"red\">And the fete at the English ambassador's? Today is Wednesday. I\n",
       " must put in an appearance there,</span>\" said <span class=\"green\">the prince</span>. \"<span class=\"red\">My daughter is\n",
       " coming for me to take me there.</span>\"\n",
       " <p></p>\n",
       " \"<span class=\"red\">I thought today's fete had been canceled. I confess all these\n",
       " festivities and fireworks are becoming wearisome.</span>\"\n",
       " <p></p>\n",
       " \"<span class=\"red\">If they had known that you wished it, the entertainment would\n",
       " have been put off,</span>\" said <span class=\"green\">the prince</span>, who, like a wound-up clock, by\n",
       " force of habit said things he did not even wish to be believed.\n",
       " <p></p>\n",
       " \"<span class=\"red\">Don't tease! Well, and what has been decided about Novosiltsev's\n",
       " dispatch? You know everything.</span>\"\n",
       " <p></p>\n",
       " \"<span class=\"red\">What can one say about it?</span>\" replied <span class=\"green\">the prince</span> in a cold,\n",
       " listless tone. \"<span class=\"red\">What has been decided? They have decided that\n",
       " Buonaparte has burnt his boats, and I believe that we are ready to\n",
       " burn ours.</span>\"\n",
       " <p></p>\n",
       " <span class=\"green\">Prince Vasili</span> always spoke languidly, like an actor repeating a\n",
       " stale part. <span class=\"green\">Anna Pavlovna</span> Scherer on the contrary, despite her forty\n",
       " years, overflowed with animation and impulsiveness. To be an\n",
       " enthusiast had become her social vocation and, sometimes even when she\n",
       " did not feel like it, she became enthusiastic in order not to\n",
       " disappoint the expectations of those who knew her. The subdued smile\n",
       " which, though it did not suit her faded features, always played\n",
       " round her lips expressed, as in a spoiled child, a continual\n",
       " consciousness of her charming defect, which she neither wished, nor\n",
       " could, nor considered it necessary, to correct.\n",
       " <p></p>\n",
       " In the midst of a conversation on political matters <span class=\"green\">Anna Pavlovna</span>\n",
       " burst out:\n",
       " <p></p>\n",
       " \"<span class=\"red\">Oh, don't speak to me of Austria. Perhaps I don't understand\n",
       " things, but Austria never has wished, and does not wish, for war.\n",
       " She is betraying us! Russia alone must save Europe. Our gracious\n",
       " sovereign recognizes his high vocation and will be true to it. That is\n",
       " the one thing I have faith in! Our good and wonderful sovereign has to\n",
       " perform the noblest role on earth, and he is so virtuous and noble\n",
       " that God will not forsake him. He will fulfill his vocation and\n",
       " crush the hydra of revolution, which has become more terrible than\n",
       " ever in the person of this murderer and villain! We alone must\n",
       " avenge the blood of the just one.... Whom, I ask you, can we rely\n",
       " on?... England with her commercial spirit will not and cannot\n",
       " understand the Emperor Alexander's loftiness of soul. She has\n",
       " refused to evacuate Malta. She wanted to find, and still seeks, some\n",
       " secret motive in our actions. What answer did Novosiltsev get? None.\n",
       " The English have not understood and cannot understand the\n",
       " self-abnegation of our Emperor who wants nothing for himself, but only\n",
       " desires the good of mankind. And what have they promised? Nothing! And\n",
       " what little they have promised they will not perform! Prussia has\n",
       " always declared that Buonaparte is invincible, and that all Europe\n",
       " is powerless before him.... And I don't believe a word that Hardenburg\n",
       " says, or Haugwitz either. This famous Prussian neutrality is just a\n",
       " trap. I have faith only in God and the lofty destiny of our adored\n",
       " monarch. He will save Europe!</span>\"\n",
       " <p></p>\n",
       " She suddenly paused, smiling at her own impetuosity.\n",
       " <p></p>\n",
       " \"<span class=\"red\">I think,</span>\" said <span class=\"green\">the prince</span> with a smile, \"<span class=\"red\">that if you had been\n",
       " sent instead of our dear <span class=\"green\">Wintzingerode</span> you would have captured the\n",
       " <span class=\"green\">King of Prussia</span>'s consent by assault. You are so eloquent. Will you\n",
       " give me a cup of tea?</span>\"\n",
       " <p></p>\n",
       " \"<span class=\"red\">In a moment. A propos,</span>\" she added, becoming calm again, \"<span class=\"red\">I am\n",
       " expecting two very interesting men tonight, <span class=\"green\">le Vicomte de Mortemart</span>,\n",
       " who is connected with the <span class=\"green\">Montmorencys</span> through the <span class=\"green\">Rohans</span>, one of\n",
       " the best French families. He is one of the genuine emigres, the good\n",
       " ones. And also the <span class=\"green\">Abbe Morio</span>. Do you know that profound thinker? He\n",
       " has been received by <span class=\"green\">the Emperor</span>. Had you heard?</span>\"\n",
       " <p></p>\n",
       " \"<span class=\"red\">I shall be delighted to meet them,</span>\" said <span class=\"green\">the prince</span>. \"<span class=\"red\">But tell me,</span>\"\n",
       " he added with studied carelessness as if it had only just occurred\n",
       " to him, though the question he was about to ask was the chief motive\n",
       " of his visit, \"<span class=\"red\">is it true that the Dowager Empress wants Baron Funke\n",
       " to be appointed first secretary at Vienna? The baron by all accounts\n",
       " is a poor creature.</span>\"\n",
       " <p></p>\n",
       " <span class=\"green\">Prince Vasili</span> wished to obtain this post for his son, but others\n",
       " were trying through the <span class=\"green\">Dowager Empress Marya Fedorovna</span> to secure it\n",
       " for <span class=\"green\">the baron</span>.\n",
       " <p></p>\n",
       " <span class=\"green\">Anna Pavlovna</span> almost closed her eyes to indicate that neither she\n",
       " nor anyone else had a right to criticize what <span class=\"green\">the Empress</span> desired or\n",
       " was pleased with.\n",
       " <p></p>\n",
       " \"<span class=\"red\">Baron Funke has been recommended to the Dowager Empress by her\n",
       " sister,</span>\" was all she said, in a dry and mournful tone.\n",
       " <p></p>\n",
       " As she named <span class=\"green\">the Empress</span>, <span class=\"green\">Anna Pavlovna's</span> face suddenly assumed an\n",
       " expression of profound and sincere devotion and respect mingled with\n",
       " sadness, and this occurred every time she mentioned her illustrious\n",
       " patroness. She added that <span class=\"green\">Her Majesty</span> had deigned to show <span class=\"green\">Baron\n",
       " Funke</span>, and again her face clouded over with sadness.\n",
       " <p></p>\n",
       " <span class=\"green\">The prince</span> was silent and looked indifferent. But, with the\n",
       " womanly and courtierlike quickness and tact habitual to her, <span class=\"green\">Anna\n",
       " Pavlovna</span> wished both to rebuke him (for daring to speak he had done of\n",
       " a man recommended to <span class=\"green\">the Empress</span>) and at the same time to console him,\n",
       " so she said:\n",
       " <p></p>\n",
       " \"<span class=\"red\">Now about your family. Do you know that since your daughter came\n",
       " out everyone has been enraptured by her? They say she is amazingly\n",
       " beautiful.</span>\"\n",
       " <p></p>\n",
       " <span class=\"green\">The prince</span> bowed to signify his respect and gratitude.\n",
       " <p></p>\n",
       " \"<span class=\"red\">I often think,</span>\" she continued after a short pause, drawing nearer\n",
       " to the prince and smiling amiably at him as if to show that\n",
       " political and social topics were ended and the time had come for\n",
       " intimate conversation- \"<span class=\"red\">I often think how unfairly sometimes the\n",
       " joys of life are distributed. Why has fate given you two such splendid\n",
       " children? I don't speak of <span class=\"green\">Anatole</span>, your youngest. I don't like\n",
       " him,</span>\" she added in a tone admitting of no rejoinder and raising her\n",
       " eyebrows. \"<span class=\"red\">Two such charming children. And really you appreciate\n",
       " them less than anyone, and so you don't deserve to have them.</span>\"\n",
       " <p></p>\n",
       " And she smiled her ecstatic smile.\n",
       " <p></p>\n",
       " \"<span class=\"red\">I can't help it,</span>\" said <span class=\"green\">the prince</span>. \"<span class=\"red\">Lavater would have said I\n",
       " lack the bump of paternity.</span>\"\n",
       " <p></p>\n",
       " \"<span class=\"red\">Don't joke; I mean to have a serious talk with you. Do you know I\n",
       " am dissatisfied with your younger son? Between ourselves</span>\" (and her\n",
       " face assumed its melancholy expression), \"<span class=\"red\">he was mentioned at Her\n",
       " Majesty's and you were pitied....</span>\"\n",
       " <p></p>\n",
       " <span class=\"green\">The prince</span> answered nothing, but she looked at him significantly,\n",
       " awaiting a reply. He frowned.\n",
       " <p></p>\n",
       " \"<span class=\"red\">What would you have me do?</span>\" he said at last. \"<span class=\"red\">You know I did all\n",
       " a father could for their education, and they have both turned out\n",
       " fools. Hippolyte is at least a quiet fool, but Anatole is an active\n",
       " one. That is the only difference between them.</span>\" He said this smiling\n",
       " in a way more natural and animated than usual, so that the wrinkles\n",
       " round his mouth very clearly revealed something unexpectedly coarse\n",
       " and unpleasant.\n",
       " <p></p>\n",
       " \"<span class=\"red\">And why are children born to such men as you? If you were not a\n",
       " father there would be nothing I could reproach you with,</span>\" said <span class=\"green\">Anna\n",
       " Pavlovna</span>, looking up pensively.\n",
       " <p></p>\n",
       " \"<span class=\"red\">I am your faithful slave and to you alone I can confess that my\n",
       " children are the bane of my life. It is the cross I have to bear. That\n",
       " is how I explain it to myself. It can't be helped!</span>\"\n",
       " <p></p>\n",
       " He said no more, but expressed his resignation to cruel fate by a\n",
       " gesture. <span class=\"green\">Anna Pavlovna</span> meditated.\n",
       " </div>]"
      ]
     },
     "execution_count": 58,
     "metadata": {},
     "output_type": "execute_result"
    }
   ],
   "source": [
    "obj.findAll(\"\", {\"id\":\"text\"})  # statement above is identical to this statement"
   ]
  },
  {
   "cell_type": "code",
   "execution_count": 64,
   "metadata": {},
   "outputs": [
    {
     "ename": "SyntaxError",
     "evalue": "invalid syntax (<ipython-input-64-04e2b7e62769>, line 1)",
     "output_type": "error",
     "traceback": [
      "\u001b[1;36m  File \u001b[1;32m\"<ipython-input-64-04e2b7e62769>\"\u001b[1;36m, line \u001b[1;32m1\u001b[0m\n\u001b[1;33m    obj.findAll(class=\"green\")\u001b[0m\n\u001b[1;37m                    ^\u001b[0m\n\u001b[1;31mSyntaxError\u001b[0m\u001b[1;31m:\u001b[0m invalid syntax\n"
     ]
    }
   ],
   "source": [
    "obj.findAll(class=\"green\")  # class is protected keyword in python"
   ]
  },
  {
   "cell_type": "code",
   "execution_count": 65,
   "metadata": {
    "scrolled": true
   },
   "outputs": [
    {
     "data": {
      "text/plain": [
       "[<span class=\"green\">Anna\n",
       " Pavlovna Scherer</span>,\n",
       " <span class=\"green\">Empress Marya\n",
       " Fedorovna</span>,\n",
       " <span class=\"green\">Prince Vasili Kuragin</span>,\n",
       " <span class=\"green\">Anna Pavlovna</span>,\n",
       " <span class=\"green\">St. Petersburg</span>,\n",
       " <span class=\"green\">the prince</span>,\n",
       " <span class=\"green\">Anna Pavlovna</span>,\n",
       " <span class=\"green\">Anna Pavlovna</span>,\n",
       " <span class=\"green\">the prince</span>,\n",
       " <span class=\"green\">the prince</span>,\n",
       " <span class=\"green\">the prince</span>,\n",
       " <span class=\"green\">Prince Vasili</span>,\n",
       " <span class=\"green\">Anna Pavlovna</span>,\n",
       " <span class=\"green\">Anna Pavlovna</span>,\n",
       " <span class=\"green\">the prince</span>,\n",
       " <span class=\"green\">Wintzingerode</span>,\n",
       " <span class=\"green\">King of Prussia</span>,\n",
       " <span class=\"green\">le Vicomte de Mortemart</span>,\n",
       " <span class=\"green\">Montmorencys</span>,\n",
       " <span class=\"green\">Rohans</span>,\n",
       " <span class=\"green\">Abbe Morio</span>,\n",
       " <span class=\"green\">the Emperor</span>,\n",
       " <span class=\"green\">the prince</span>,\n",
       " <span class=\"green\">Prince Vasili</span>,\n",
       " <span class=\"green\">Dowager Empress Marya Fedorovna</span>,\n",
       " <span class=\"green\">the baron</span>,\n",
       " <span class=\"green\">Anna Pavlovna</span>,\n",
       " <span class=\"green\">the Empress</span>,\n",
       " <span class=\"green\">the Empress</span>,\n",
       " <span class=\"green\">Anna Pavlovna's</span>,\n",
       " <span class=\"green\">Her Majesty</span>,\n",
       " <span class=\"green\">Baron\n",
       " Funke</span>,\n",
       " <span class=\"green\">The prince</span>,\n",
       " <span class=\"green\">Anna\n",
       " Pavlovna</span>,\n",
       " <span class=\"green\">the Empress</span>,\n",
       " <span class=\"green\">The prince</span>,\n",
       " <span class=\"green\">Anatole</span>,\n",
       " <span class=\"green\">the prince</span>,\n",
       " <span class=\"green\">The prince</span>,\n",
       " <span class=\"green\">Anna\n",
       " Pavlovna</span>,\n",
       " <span class=\"green\">Anna Pavlovna</span>]"
      ]
     },
     "execution_count": 65,
     "metadata": {},
     "output_type": "execute_result"
    }
   ],
   "source": [
    "obj.findAll(class_=\"green\")  # a clumsy solution"
   ]
  },
  {
   "cell_type": "markdown",
   "metadata": {},
   "source": [
    "### alternative"
   ]
  },
  {
   "cell_type": "code",
   "execution_count": 133,
   "metadata": {
    "collapsed": true
   },
   "outputs": [
    {
     "ename": "SyntaxError",
     "evalue": "unexpected EOF while parsing (<ipython-input-133-b29cda2772b9>, line 1)",
     "output_type": "error",
     "traceback": [
      "\u001b[1;36m  File \u001b[1;32m\"<ipython-input-133-b29cda2772b9>\"\u001b[1;36m, line \u001b[1;32m1\u001b[0m\n\u001b[1;33m    bj.findAll(\"\", {\"class\":\"green\"}  # alternative\u001b[0m\n\u001b[1;37m                                                   ^\u001b[0m\n\u001b[1;31mSyntaxError\u001b[0m\u001b[1;31m:\u001b[0m unexpected EOF while parsing\n"
     ]
    }
   ],
   "source": [
    "bs.findAll(\"\", {\"class\":\"green\"})  "
   ]
  },
  {
   "cell_type": "markdown",
   "metadata": {},
   "source": [
    "# BeautifulSoup Object"
   ]
  },
  {
   "cell_type": "markdown",
   "metadata": {},
   "source": [
    "1. BeautifulSoup Object\n",
    "2. Tag Objects\n",
    "3. Navigable Strings --- these are strings within the tags\n",
    "4. Comment object"
   ]
  },
  {
   "cell_type": "markdown",
   "metadata": {},
   "source": [
    "# Children, siblings And Parent"
   ]
  },
  {
   "cell_type": "code",
   "execution_count": 1,
   "metadata": {},
   "outputs": [],
   "source": [
    "from urllib.request import urlopen\n",
    "from bs4 import BeautifulSoup as bs"
   ]
  },
  {
   "cell_type": "code",
   "execution_count": 3,
   "metadata": {},
   "outputs": [],
   "source": [
    "html = urlopen(\"http://www.pythonscraping.com/pages/page3.html\")"
   ]
  },
  {
   "cell_type": "code",
   "execution_count": 4,
   "metadata": {},
   "outputs": [],
   "source": [
    "obj = bs(html)"
   ]
  },
  {
   "cell_type": "code",
   "execution_count": 6,
   "metadata": {
    "scrolled": true
   },
   "outputs": [],
   "source": [
    "# obj"
   ]
  },
  {
   "cell_type": "code",
   "execution_count": 12,
   "metadata": {
    "scrolled": true
   },
   "outputs": [
    {
     "data": {
      "text/plain": [
       "['\\n',\n",
       " <tr><th>\n",
       " Item Title\n",
       " </th><th>\n",
       " Description\n",
       " </th><th>\n",
       " Cost\n",
       " </th><th>\n",
       " Image\n",
       " </th></tr>,\n",
       " '\\n',\n",
       " <tr class=\"gift\" id=\"gift1\"><td>\n",
       " Vegetable Basket\n",
       " </td><td>\n",
       " This vegetable basket is the perfect gift for your health conscious (or overweight) friends!\n",
       " <span class=\"excitingNote\">Now with super-colorful bell peppers!</span>\n",
       " </td><td>\n",
       " $15.00\n",
       " </td><td>\n",
       " <img src=\"../img/gifts/img1.jpg\"/>\n",
       " </td></tr>,\n",
       " '\\n',\n",
       " <tr class=\"gift\" id=\"gift2\"><td>\n",
       " Russian Nesting Dolls\n",
       " </td><td>\n",
       " Hand-painted by trained monkeys, these exquisite dolls are priceless! And by \"priceless,\" we mean \"extremely expensive\"! <span class=\"excitingNote\">8 entire dolls per set! Octuple the presents!</span>\n",
       " </td><td>\n",
       " $10,000.52\n",
       " </td><td>\n",
       " <img src=\"../img/gifts/img2.jpg\"/>\n",
       " </td></tr>,\n",
       " '\\n',\n",
       " <tr class=\"gift\" id=\"gift3\"><td>\n",
       " Fish Painting\n",
       " </td><td>\n",
       " If something seems fishy about this painting, it's because it's a fish! <span class=\"excitingNote\">Also hand-painted by trained monkeys!</span>\n",
       " </td><td>\n",
       " $10,005.00\n",
       " </td><td>\n",
       " <img src=\"../img/gifts/img3.jpg\"/>\n",
       " </td></tr>,\n",
       " '\\n',\n",
       " <tr class=\"gift\" id=\"gift4\"><td>\n",
       " Dead Parrot\n",
       " </td><td>\n",
       " This is an ex-parrot! <span class=\"excitingNote\">Or maybe he's only resting?</span>\n",
       " </td><td>\n",
       " $0.50\n",
       " </td><td>\n",
       " <img src=\"../img/gifts/img4.jpg\"/>\n",
       " </td></tr>,\n",
       " '\\n',\n",
       " <tr class=\"gift\" id=\"gift5\"><td>\n",
       " Mystery Box\n",
       " </td><td>\n",
       " If you love suprises, this mystery box is for you! Do not place on light-colored surfaces. May cause oil staining. <span class=\"excitingNote\">Keep your friends guessing!</span>\n",
       " </td><td>\n",
       " $1.50\n",
       " </td><td>\n",
       " <img src=\"../img/gifts/img6.jpg\"/>\n",
       " </td></tr>,\n",
       " '\\n']"
      ]
     },
     "execution_count": 12,
     "metadata": {},
     "output_type": "execute_result"
    }
   ],
   "source": [
    "list(obj.find(\"table\", {\"id\":\"giftList\"}).children)"
   ]
  },
  {
   "cell_type": "code",
   "execution_count": 16,
   "metadata": {
    "scrolled": true
   },
   "outputs": [
    {
     "name": "stdout",
     "output_type": "stream",
     "text": [
      "\n",
      "\n",
      "<tr><th>\n",
      "Item Title\n",
      "</th><th>\n",
      "Description\n",
      "</th><th>\n",
      "Cost\n",
      "</th><th>\n",
      "Image\n",
      "</th></tr>\n",
      "\n",
      "\n",
      "<tr class=\"gift\" id=\"gift1\"><td>\n",
      "Vegetable Basket\n",
      "</td><td>\n",
      "This vegetable basket is the perfect gift for your health conscious (or overweight) friends!\n",
      "<span class=\"excitingNote\">Now with super-colorful bell peppers!</span>\n",
      "</td><td>\n",
      "$15.00\n",
      "</td><td>\n",
      "<img src=\"../img/gifts/img1.jpg\"/>\n",
      "</td></tr>\n",
      "\n",
      "\n",
      "<tr class=\"gift\" id=\"gift2\"><td>\n",
      "Russian Nesting Dolls\n",
      "</td><td>\n",
      "Hand-painted by trained monkeys, these exquisite dolls are priceless! And by \"priceless,\" we mean \"extremely expensive\"! <span class=\"excitingNote\">8 entire dolls per set! Octuple the presents!</span>\n",
      "</td><td>\n",
      "$10,000.52\n",
      "</td><td>\n",
      "<img src=\"../img/gifts/img2.jpg\"/>\n",
      "</td></tr>\n",
      "\n",
      "\n",
      "<tr class=\"gift\" id=\"gift3\"><td>\n",
      "Fish Painting\n",
      "</td><td>\n",
      "If something seems fishy about this painting, it's because it's a fish! <span class=\"excitingNote\">Also hand-painted by trained monkeys!</span>\n",
      "</td><td>\n",
      "$10,005.00\n",
      "</td><td>\n",
      "<img src=\"../img/gifts/img3.jpg\"/>\n",
      "</td></tr>\n",
      "\n",
      "\n",
      "<tr class=\"gift\" id=\"gift4\"><td>\n",
      "Dead Parrot\n",
      "</td><td>\n",
      "This is an ex-parrot! <span class=\"excitingNote\">Or maybe he's only resting?</span>\n",
      "</td><td>\n",
      "$0.50\n",
      "</td><td>\n",
      "<img src=\"../img/gifts/img4.jpg\"/>\n",
      "</td></tr>\n",
      "\n",
      "\n",
      "<tr class=\"gift\" id=\"gift5\"><td>\n",
      "Mystery Box\n",
      "</td><td>\n",
      "If you love suprises, this mystery box is for you! Do not place on light-colored surfaces. May cause oil staining. <span class=\"excitingNote\">Keep your friends guessing!</span>\n",
      "</td><td>\n",
      "$1.50\n",
      "</td><td>\n",
      "<img src=\"../img/gifts/img6.jpg\"/>\n",
      "</td></tr>\n",
      "\n",
      "\n"
     ]
    }
   ],
   "source": [
    "from urllib.request import urlopen\n",
    "from bs4 import BeautifulSoup\n",
    "html = urlopen(\"http://www.pythonscraping.com/pages/page3.html\")\n",
    "bsObj = BeautifulSoup(html)\n",
    "for child in bsObj.find(\"table\",{\"id\":\"giftList\"}).children:\n",
    "    print(child)"
   ]
  },
  {
   "cell_type": "markdown",
   "metadata": {},
   "source": [
    "## next_siblings, previous_siblings, parents -- Gives list\n",
    "## next_sibling, previous_sibling, parent -- gives single element"
   ]
  },
  {
   "cell_type": "code",
   "execution_count": 24,
   "metadata": {
    "scrolled": true
   },
   "outputs": [
    {
     "data": {
      "text/plain": [
       "['\\n',\n",
       " <tr class=\"gift\" id=\"gift1\"><td>\n",
       " Vegetable Basket\n",
       " </td><td>\n",
       " This vegetable basket is the perfect gift for your health conscious (or overweight) friends!\n",
       " <span class=\"excitingNote\">Now with super-colorful bell peppers!</span>\n",
       " </td><td>\n",
       " $15.00\n",
       " </td><td>\n",
       " <img src=\"../img/gifts/img1.jpg\"/>\n",
       " </td></tr>,\n",
       " '\\n',\n",
       " <tr class=\"gift\" id=\"gift2\"><td>\n",
       " Russian Nesting Dolls\n",
       " </td><td>\n",
       " Hand-painted by trained monkeys, these exquisite dolls are priceless! And by \"priceless,\" we mean \"extremely expensive\"! <span class=\"excitingNote\">8 entire dolls per set! Octuple the presents!</span>\n",
       " </td><td>\n",
       " $10,000.52\n",
       " </td><td>\n",
       " <img src=\"../img/gifts/img2.jpg\"/>\n",
       " </td></tr>,\n",
       " '\\n',\n",
       " <tr class=\"gift\" id=\"gift3\"><td>\n",
       " Fish Painting\n",
       " </td><td>\n",
       " If something seems fishy about this painting, it's because it's a fish! <span class=\"excitingNote\">Also hand-painted by trained monkeys!</span>\n",
       " </td><td>\n",
       " $10,005.00\n",
       " </td><td>\n",
       " <img src=\"../img/gifts/img3.jpg\"/>\n",
       " </td></tr>,\n",
       " '\\n',\n",
       " <tr class=\"gift\" id=\"gift4\"><td>\n",
       " Dead Parrot\n",
       " </td><td>\n",
       " This is an ex-parrot! <span class=\"excitingNote\">Or maybe he's only resting?</span>\n",
       " </td><td>\n",
       " $0.50\n",
       " </td><td>\n",
       " <img src=\"../img/gifts/img4.jpg\"/>\n",
       " </td></tr>,\n",
       " '\\n',\n",
       " <tr class=\"gift\" id=\"gift5\"><td>\n",
       " Mystery Box\n",
       " </td><td>\n",
       " If you love suprises, this mystery box is for you! Do not place on light-colored surfaces. May cause oil staining. <span class=\"excitingNote\">Keep your friends guessing!</span>\n",
       " </td><td>\n",
       " $1.50\n",
       " </td><td>\n",
       " <img src=\"../img/gifts/img6.jpg\"/>\n",
       " </td></tr>,\n",
       " '\\n']"
      ]
     },
     "execution_count": 24,
     "metadata": {},
     "output_type": "execute_result"
    }
   ],
   "source": [
    "(list(obj.find(\"table\").tr.next_siblings))"
   ]
  },
  {
   "cell_type": "markdown",
   "metadata": {},
   "source": [
    "# Using regular expression"
   ]
  },
  {
   "cell_type": "code",
   "execution_count": 47,
   "metadata": {},
   "outputs": [],
   "source": [
    "import re"
   ]
  },
  {
   "cell_type": "code",
   "execution_count": 41,
   "metadata": {},
   "outputs": [],
   "source": [
    "html = urlopen(\"http://www.pythonscraping.com/pages/page3.html\")"
   ]
  },
  {
   "cell_type": "code",
   "execution_count": 42,
   "metadata": {},
   "outputs": [],
   "source": [
    "obj = bs(html)"
   ]
  },
  {
   "cell_type": "code",
   "execution_count": 53,
   "metadata": {},
   "outputs": [
    {
     "data": {
      "text/plain": [
       "[<img src=\"../img/gifts/img1.jpg\"/>,\n",
       " <img src=\"../img/gifts/img2.jpg\"/>,\n",
       " <img src=\"../img/gifts/img3.jpg\"/>,\n",
       " <img src=\"../img/gifts/img4.jpg\"/>,\n",
       " <img src=\"../img/gifts/img6.jpg\"/>]"
      ]
     },
     "execution_count": 53,
     "metadata": {},
     "output_type": "execute_result"
    }
   ],
   "source": [
    "tag = \"img\"\n",
    "pattern = re.compile(r\"^(\\.)+/img/gifts/img[0-9].jpg\")  # only find tags that matches this characteristic\n",
    "attribute = {\"src\":pattern}\n",
    "obj.findAll(tag, attribute)"
   ]
  },
  {
   "cell_type": "markdown",
   "metadata": {},
   "source": [
    "### A regular expression can be inserted as any argument in a BeautifulSoup expression,allowing you a great deal of flexibility in finding target elements."
   ]
  },
  {
   "cell_type": "markdown",
   "metadata": {},
   "source": [
    "---"
   ]
  },
  {
   "cell_type": "markdown",
   "metadata": {},
   "source": [
    "# Accessing Attributes"
   ]
  },
  {
   "cell_type": "code",
   "execution_count": 62,
   "metadata": {},
   "outputs": [
    {
     "data": {
      "text/plain": [
       "{'src': '../img/gifts/logo.jpg', 'style': 'float:left;'}"
      ]
     },
     "execution_count": 62,
     "metadata": {},
     "output_type": "execute_result"
    }
   ],
   "source": [
    "obj.img.attrs"
   ]
  },
  {
   "cell_type": "code",
   "execution_count": 63,
   "metadata": {},
   "outputs": [
    {
     "data": {
      "text/plain": [
       "'../img/gifts/logo.jpg'"
      ]
     },
     "execution_count": 63,
     "metadata": {},
     "output_type": "execute_result"
    }
   ],
   "source": [
    "obj.img.attrs[\"src\"]"
   ]
  },
  {
   "cell_type": "code",
   "execution_count": 64,
   "metadata": {},
   "outputs": [
    {
     "data": {
      "text/plain": [
       "'float:left;'"
      ]
     },
     "execution_count": 64,
     "metadata": {},
     "output_type": "execute_result"
    }
   ],
   "source": [
    "obj.img.attrs[\"style\"]"
   ]
  },
  {
   "cell_type": "markdown",
   "metadata": {},
   "source": [
    "# Six Degrees of Wikipedia solution finder -- Project"
   ]
  },
  {
   "cell_type": "code",
   "execution_count": 66,
   "metadata": {
    "collapsed": true
   },
   "outputs": [
    {
     "name": "stdout",
     "output_type": "stream",
     "text": [
      "/wiki/Teen_Choice_Awards\n",
      "/wiki/Rachel_Platten\n",
      "/wiki/Adult_Top_40\n",
      "/wiki/List_of_Billboard_number-one_Americana/folk_albums_of_the_2010%27s\n",
      "/wiki/The_Head_and_the_Heart\n",
      "/wiki/Conan_(talk_show)\n",
      "/wiki/Eastern_Time_Zone\n",
      "/wiki/North_Carolina\n",
      "/wiki/Governor%27s_Palace,_New_Bern\n",
      "/wiki/Brunswick_Town,_North_Carolina\n",
      "/wiki/Pitch_(resin)\n",
      "/wiki/Ogogoro\n",
      "/wiki/Urhobo_people\n",
      "/wiki/Nupe_people\n",
      "/wiki/Itsekiri_people\n",
      "/wiki/Igbo_people\n",
      "/wiki/Mambila_people\n",
      "/wiki/Chamba_people\n",
      "/wiki/Banda_people\n",
      "/wiki/ISBN_(identifier)\n",
      "/wiki/Business_Process_Model_and_Notation\n",
      "/wiki/ISO_15398\n",
      "/wiki/Language_Of_Temporal_Ordering_Specification\n",
      "/wiki/Film_speed\n",
      "/wiki/View_camera\n",
      "/wiki/C-41_process\n",
      "/wiki/Monolight\n",
      "/wiki/Guide_number\n",
      "/wiki/Diagonal_method\n",
      "/wiki/Color\n",
      "/wiki/English_in_the_Commonwealth_of_Nations\n",
      "/wiki/Institute_of_Commonwealth_Studies\n",
      "/wiki/Westfield_College\n",
      "/wiki/Adrian_Chiles\n",
      "/wiki/Birmingham\n",
      "/wiki/Luxembourg_in_the_Eurovision_Song_Contest\n",
      "/wiki/Norway_in_the_Eurovision_Song_Contest\n",
      "/wiki/Fly_on_the_Wings_of_Love\n",
      "/wiki/Celine_Dion\n",
      "/wiki/D%27eux\n",
      "/wiki/Jean-Jacques_Goldman\n",
      "/wiki/Holocaust_victims\n",
      "/wiki/Martyrs_of_Nowogr%C3%B3dek\n",
      "/wiki/Nowogr%C3%B3dek\n",
      "/wiki/Napoleon_Orda\n",
      "/wiki/Polish%E2%80%93Lithuanian_Commonwealth\n"
     ]
    },
    {
     "ename": "KeyboardInterrupt",
     "evalue": "",
     "output_type": "error",
     "traceback": [
      "\u001b[1;31m---------------------------------------------------------------------------\u001b[0m",
      "\u001b[1;31mKeyboardInterrupt\u001b[0m                         Traceback (most recent call last)",
      "\u001b[1;32m<ipython-input-66-e5dd64de8fdd>\u001b[0m in \u001b[0;36m<module>\u001b[1;34m\u001b[0m\n\u001b[0;32m     14\u001b[0m     \u001b[0mnewArticle\u001b[0m \u001b[1;33m=\u001b[0m \u001b[0mlinks\u001b[0m\u001b[1;33m[\u001b[0m\u001b[0mrandom\u001b[0m\u001b[1;33m.\u001b[0m\u001b[0mrandint\u001b[0m\u001b[1;33m(\u001b[0m\u001b[1;36m0\u001b[0m\u001b[1;33m,\u001b[0m \u001b[0mlen\u001b[0m\u001b[1;33m(\u001b[0m\u001b[0mlinks\u001b[0m\u001b[1;33m)\u001b[0m\u001b[1;33m-\u001b[0m\u001b[1;36m1\u001b[0m\u001b[1;33m)\u001b[0m\u001b[1;33m]\u001b[0m\u001b[1;33m.\u001b[0m\u001b[0mattrs\u001b[0m\u001b[1;33m[\u001b[0m\u001b[1;34m\"href\"\u001b[0m\u001b[1;33m]\u001b[0m\u001b[1;33m\u001b[0m\u001b[1;33m\u001b[0m\u001b[0m\n\u001b[0;32m     15\u001b[0m     \u001b[0mprint\u001b[0m\u001b[1;33m(\u001b[0m\u001b[0mnewArticle\u001b[0m\u001b[1;33m)\u001b[0m\u001b[1;33m\u001b[0m\u001b[1;33m\u001b[0m\u001b[0m\n\u001b[1;32m---> 16\u001b[1;33m     \u001b[0mlinks\u001b[0m \u001b[1;33m=\u001b[0m \u001b[0mgetLinks\u001b[0m\u001b[1;33m(\u001b[0m\u001b[0mnewArticle\u001b[0m\u001b[1;33m)\u001b[0m\u001b[1;33m\u001b[0m\u001b[1;33m\u001b[0m\u001b[0m\n\u001b[0m",
      "\u001b[1;32m<ipython-input-66-e5dd64de8fdd>\u001b[0m in \u001b[0;36mgetLinks\u001b[1;34m(articleUrl)\u001b[0m\n\u001b[0;32m      7\u001b[0m \u001b[1;32mdef\u001b[0m \u001b[0mgetLinks\u001b[0m\u001b[1;33m(\u001b[0m\u001b[0marticleUrl\u001b[0m\u001b[1;33m)\u001b[0m\u001b[1;33m:\u001b[0m\u001b[1;33m\u001b[0m\u001b[1;33m\u001b[0m\u001b[0m\n\u001b[0;32m      8\u001b[0m     \u001b[0mhtml\u001b[0m \u001b[1;33m=\u001b[0m \u001b[0murlopen\u001b[0m\u001b[1;33m(\u001b[0m\u001b[1;34m\"http://en.wikipedia.org\"\u001b[0m\u001b[1;33m+\u001b[0m\u001b[0marticleUrl\u001b[0m\u001b[1;33m)\u001b[0m\u001b[1;33m\u001b[0m\u001b[1;33m\u001b[0m\u001b[0m\n\u001b[1;32m----> 9\u001b[1;33m     \u001b[0mbsObj\u001b[0m \u001b[1;33m=\u001b[0m \u001b[0mBeautifulSoup\u001b[0m\u001b[1;33m(\u001b[0m\u001b[0mhtml\u001b[0m\u001b[1;33m)\u001b[0m\u001b[1;33m\u001b[0m\u001b[1;33m\u001b[0m\u001b[0m\n\u001b[0m\u001b[0;32m     10\u001b[0m     return bsObj.find(\"div\", {\"id\":\"bodyContent\"}).findAll(\"a\",\n\u001b[0;32m     11\u001b[0m                         href=re.compile(\"^(/wiki/)((?!:).)*$\"))\n",
      "\u001b[1;32m~\\anaconda3\\lib\\site-packages\\bs4\\__init__.py\u001b[0m in \u001b[0;36m__init__\u001b[1;34m(self, markup, features, builder, parse_only, from_encoding, exclude_encodings, element_classes, **kwargs)\u001b[0m\n\u001b[0;32m    284\u001b[0m \u001b[1;33m\u001b[0m\u001b[0m\n\u001b[0;32m    285\u001b[0m         \u001b[1;32mif\u001b[0m \u001b[0mhasattr\u001b[0m\u001b[1;33m(\u001b[0m\u001b[0mmarkup\u001b[0m\u001b[1;33m,\u001b[0m \u001b[1;34m'read'\u001b[0m\u001b[1;33m)\u001b[0m\u001b[1;33m:\u001b[0m        \u001b[1;31m# It's a file-type object.\u001b[0m\u001b[1;33m\u001b[0m\u001b[1;33m\u001b[0m\u001b[0m\n\u001b[1;32m--> 286\u001b[1;33m             \u001b[0mmarkup\u001b[0m \u001b[1;33m=\u001b[0m \u001b[0mmarkup\u001b[0m\u001b[1;33m.\u001b[0m\u001b[0mread\u001b[0m\u001b[1;33m(\u001b[0m\u001b[1;33m)\u001b[0m\u001b[1;33m\u001b[0m\u001b[1;33m\u001b[0m\u001b[0m\n\u001b[0m\u001b[0;32m    287\u001b[0m         elif len(markup) <= 256 and (\n\u001b[0;32m    288\u001b[0m                 \u001b[1;33m(\u001b[0m\u001b[0misinstance\u001b[0m\u001b[1;33m(\u001b[0m\u001b[0mmarkup\u001b[0m\u001b[1;33m,\u001b[0m \u001b[0mbytes\u001b[0m\u001b[1;33m)\u001b[0m \u001b[1;32mand\u001b[0m \u001b[1;32mnot\u001b[0m \u001b[1;34mb'<'\u001b[0m \u001b[1;32min\u001b[0m \u001b[0mmarkup\u001b[0m\u001b[1;33m)\u001b[0m\u001b[1;33m\u001b[0m\u001b[1;33m\u001b[0m\u001b[0m\n",
      "\u001b[1;32m~\\anaconda3\\lib\\http\\client.py\u001b[0m in \u001b[0;36mread\u001b[1;34m(self, amt)\u001b[0m\n\u001b[0;32m    468\u001b[0m             \u001b[1;32melse\u001b[0m\u001b[1;33m:\u001b[0m\u001b[1;33m\u001b[0m\u001b[1;33m\u001b[0m\u001b[0m\n\u001b[0;32m    469\u001b[0m                 \u001b[1;32mtry\u001b[0m\u001b[1;33m:\u001b[0m\u001b[1;33m\u001b[0m\u001b[1;33m\u001b[0m\u001b[0m\n\u001b[1;32m--> 470\u001b[1;33m                     \u001b[0ms\u001b[0m \u001b[1;33m=\u001b[0m \u001b[0mself\u001b[0m\u001b[1;33m.\u001b[0m\u001b[0m_safe_read\u001b[0m\u001b[1;33m(\u001b[0m\u001b[0mself\u001b[0m\u001b[1;33m.\u001b[0m\u001b[0mlength\u001b[0m\u001b[1;33m)\u001b[0m\u001b[1;33m\u001b[0m\u001b[1;33m\u001b[0m\u001b[0m\n\u001b[0m\u001b[0;32m    471\u001b[0m                 \u001b[1;32mexcept\u001b[0m \u001b[0mIncompleteRead\u001b[0m\u001b[1;33m:\u001b[0m\u001b[1;33m\u001b[0m\u001b[1;33m\u001b[0m\u001b[0m\n\u001b[0;32m    472\u001b[0m                     \u001b[0mself\u001b[0m\u001b[1;33m.\u001b[0m\u001b[0m_close_conn\u001b[0m\u001b[1;33m(\u001b[0m\u001b[1;33m)\u001b[0m\u001b[1;33m\u001b[0m\u001b[1;33m\u001b[0m\u001b[0m\n",
      "\u001b[1;32m~\\anaconda3\\lib\\http\\client.py\u001b[0m in \u001b[0;36m_safe_read\u001b[1;34m(self, amt)\u001b[0m\n\u001b[0;32m    618\u001b[0m         \u001b[0ms\u001b[0m \u001b[1;33m=\u001b[0m \u001b[1;33m[\u001b[0m\u001b[1;33m]\u001b[0m\u001b[1;33m\u001b[0m\u001b[1;33m\u001b[0m\u001b[0m\n\u001b[0;32m    619\u001b[0m         \u001b[1;32mwhile\u001b[0m \u001b[0mamt\u001b[0m \u001b[1;33m>\u001b[0m \u001b[1;36m0\u001b[0m\u001b[1;33m:\u001b[0m\u001b[1;33m\u001b[0m\u001b[1;33m\u001b[0m\u001b[0m\n\u001b[1;32m--> 620\u001b[1;33m             \u001b[0mchunk\u001b[0m \u001b[1;33m=\u001b[0m \u001b[0mself\u001b[0m\u001b[1;33m.\u001b[0m\u001b[0mfp\u001b[0m\u001b[1;33m.\u001b[0m\u001b[0mread\u001b[0m\u001b[1;33m(\u001b[0m\u001b[0mmin\u001b[0m\u001b[1;33m(\u001b[0m\u001b[0mamt\u001b[0m\u001b[1;33m,\u001b[0m \u001b[0mMAXAMOUNT\u001b[0m\u001b[1;33m)\u001b[0m\u001b[1;33m)\u001b[0m\u001b[1;33m\u001b[0m\u001b[1;33m\u001b[0m\u001b[0m\n\u001b[0m\u001b[0;32m    621\u001b[0m             \u001b[1;32mif\u001b[0m \u001b[1;32mnot\u001b[0m \u001b[0mchunk\u001b[0m\u001b[1;33m:\u001b[0m\u001b[1;33m\u001b[0m\u001b[1;33m\u001b[0m\u001b[0m\n\u001b[0;32m    622\u001b[0m                 \u001b[1;32mraise\u001b[0m \u001b[0mIncompleteRead\u001b[0m\u001b[1;33m(\u001b[0m\u001b[1;34mb''\u001b[0m\u001b[1;33m.\u001b[0m\u001b[0mjoin\u001b[0m\u001b[1;33m(\u001b[0m\u001b[0ms\u001b[0m\u001b[1;33m)\u001b[0m\u001b[1;33m,\u001b[0m \u001b[0mamt\u001b[0m\u001b[1;33m)\u001b[0m\u001b[1;33m\u001b[0m\u001b[1;33m\u001b[0m\u001b[0m\n",
      "\u001b[1;32m~\\anaconda3\\lib\\socket.py\u001b[0m in \u001b[0;36mreadinto\u001b[1;34m(self, b)\u001b[0m\n\u001b[0;32m    587\u001b[0m         \u001b[1;32mwhile\u001b[0m \u001b[1;32mTrue\u001b[0m\u001b[1;33m:\u001b[0m\u001b[1;33m\u001b[0m\u001b[1;33m\u001b[0m\u001b[0m\n\u001b[0;32m    588\u001b[0m             \u001b[1;32mtry\u001b[0m\u001b[1;33m:\u001b[0m\u001b[1;33m\u001b[0m\u001b[1;33m\u001b[0m\u001b[0m\n\u001b[1;32m--> 589\u001b[1;33m                 \u001b[1;32mreturn\u001b[0m \u001b[0mself\u001b[0m\u001b[1;33m.\u001b[0m\u001b[0m_sock\u001b[0m\u001b[1;33m.\u001b[0m\u001b[0mrecv_into\u001b[0m\u001b[1;33m(\u001b[0m\u001b[0mb\u001b[0m\u001b[1;33m)\u001b[0m\u001b[1;33m\u001b[0m\u001b[1;33m\u001b[0m\u001b[0m\n\u001b[0m\u001b[0;32m    590\u001b[0m             \u001b[1;32mexcept\u001b[0m \u001b[0mtimeout\u001b[0m\u001b[1;33m:\u001b[0m\u001b[1;33m\u001b[0m\u001b[1;33m\u001b[0m\u001b[0m\n\u001b[0;32m    591\u001b[0m                 \u001b[0mself\u001b[0m\u001b[1;33m.\u001b[0m\u001b[0m_timeout_occurred\u001b[0m \u001b[1;33m=\u001b[0m \u001b[1;32mTrue\u001b[0m\u001b[1;33m\u001b[0m\u001b[1;33m\u001b[0m\u001b[0m\n",
      "\u001b[1;32m~\\anaconda3\\lib\\ssl.py\u001b[0m in \u001b[0;36mrecv_into\u001b[1;34m(self, buffer, nbytes, flags)\u001b[0m\n\u001b[0;32m   1069\u001b[0m                   \u001b[1;34m\"non-zero flags not allowed in calls to recv_into() on %s\"\u001b[0m \u001b[1;33m%\u001b[0m\u001b[1;33m\u001b[0m\u001b[1;33m\u001b[0m\u001b[0m\n\u001b[0;32m   1070\u001b[0m                   self.__class__)\n\u001b[1;32m-> 1071\u001b[1;33m             \u001b[1;32mreturn\u001b[0m \u001b[0mself\u001b[0m\u001b[1;33m.\u001b[0m\u001b[0mread\u001b[0m\u001b[1;33m(\u001b[0m\u001b[0mnbytes\u001b[0m\u001b[1;33m,\u001b[0m \u001b[0mbuffer\u001b[0m\u001b[1;33m)\u001b[0m\u001b[1;33m\u001b[0m\u001b[1;33m\u001b[0m\u001b[0m\n\u001b[0m\u001b[0;32m   1072\u001b[0m         \u001b[1;32melse\u001b[0m\u001b[1;33m:\u001b[0m\u001b[1;33m\u001b[0m\u001b[1;33m\u001b[0m\u001b[0m\n\u001b[0;32m   1073\u001b[0m             \u001b[1;32mreturn\u001b[0m \u001b[0msuper\u001b[0m\u001b[1;33m(\u001b[0m\u001b[1;33m)\u001b[0m\u001b[1;33m.\u001b[0m\u001b[0mrecv_into\u001b[0m\u001b[1;33m(\u001b[0m\u001b[0mbuffer\u001b[0m\u001b[1;33m,\u001b[0m \u001b[0mnbytes\u001b[0m\u001b[1;33m,\u001b[0m \u001b[0mflags\u001b[0m\u001b[1;33m)\u001b[0m\u001b[1;33m\u001b[0m\u001b[1;33m\u001b[0m\u001b[0m\n",
      "\u001b[1;32m~\\anaconda3\\lib\\ssl.py\u001b[0m in \u001b[0;36mread\u001b[1;34m(self, len, buffer)\u001b[0m\n\u001b[0;32m    927\u001b[0m         \u001b[1;32mtry\u001b[0m\u001b[1;33m:\u001b[0m\u001b[1;33m\u001b[0m\u001b[1;33m\u001b[0m\u001b[0m\n\u001b[0;32m    928\u001b[0m             \u001b[1;32mif\u001b[0m \u001b[0mbuffer\u001b[0m \u001b[1;32mis\u001b[0m \u001b[1;32mnot\u001b[0m \u001b[1;32mNone\u001b[0m\u001b[1;33m:\u001b[0m\u001b[1;33m\u001b[0m\u001b[1;33m\u001b[0m\u001b[0m\n\u001b[1;32m--> 929\u001b[1;33m                 \u001b[1;32mreturn\u001b[0m \u001b[0mself\u001b[0m\u001b[1;33m.\u001b[0m\u001b[0m_sslobj\u001b[0m\u001b[1;33m.\u001b[0m\u001b[0mread\u001b[0m\u001b[1;33m(\u001b[0m\u001b[0mlen\u001b[0m\u001b[1;33m,\u001b[0m \u001b[0mbuffer\u001b[0m\u001b[1;33m)\u001b[0m\u001b[1;33m\u001b[0m\u001b[1;33m\u001b[0m\u001b[0m\n\u001b[0m\u001b[0;32m    930\u001b[0m             \u001b[1;32melse\u001b[0m\u001b[1;33m:\u001b[0m\u001b[1;33m\u001b[0m\u001b[1;33m\u001b[0m\u001b[0m\n\u001b[0;32m    931\u001b[0m                 \u001b[1;32mreturn\u001b[0m \u001b[0mself\u001b[0m\u001b[1;33m.\u001b[0m\u001b[0m_sslobj\u001b[0m\u001b[1;33m.\u001b[0m\u001b[0mread\u001b[0m\u001b[1;33m(\u001b[0m\u001b[0mlen\u001b[0m\u001b[1;33m)\u001b[0m\u001b[1;33m\u001b[0m\u001b[1;33m\u001b[0m\u001b[0m\n",
      "\u001b[1;31mKeyboardInterrupt\u001b[0m: "
     ]
    }
   ],
   "source": [
    "from urllib.request import urlopen\n",
    "from bs4 import BeautifulSoup\n",
    "import datetime\n",
    "import random\n",
    "import re\n",
    "random.seed(datetime.datetime.now())\n",
    "def getLinks(articleUrl):\n",
    "    html = urlopen(\"http://en.wikipedia.org\"+articleUrl)\n",
    "    bsObj = BeautifulSoup(html)\n",
    "    return bsObj.find(\"div\", {\"id\":\"bodyContent\"}).findAll(\"a\",\n",
    "                        href=re.compile(\"^(/wiki/)((?!:).)*$\"))\n",
    "links = getLinks(\"/wiki/Kevin_Bacon\")\n",
    "while len(links) > 0:\n",
    "    newArticle = links[random.randint(0, len(links)-1)].attrs[\"href\"]\n",
    "    print(newArticle)\n",
    "    links = getLinks(newArticle)"
   ]
  },
  {
   "cell_type": "markdown",
   "metadata": {},
   "source": [
    "# Finding all links of wikipedia article"
   ]
  },
  {
   "cell_type": "code",
   "execution_count": 67,
   "metadata": {},
   "outputs": [],
   "source": [
    "from urllib.request import urlopen\n",
    "from bs4 import BeautifulSoup as bs\n",
    "import re"
   ]
  },
  {
   "cell_type": "code",
   "execution_count": 69,
   "metadata": {},
   "outputs": [],
   "source": [
    "html = urlopen(\"https://en.wikipedia.org/wiki/Kevin_Bacon\")"
   ]
  },
  {
   "cell_type": "code",
   "execution_count": 70,
   "metadata": {},
   "outputs": [],
   "source": [
    "obj = bs(html)"
   ]
  },
  {
   "cell_type": "code",
   "execution_count": 130,
   "metadata": {},
   "outputs": [],
   "source": [
    "tag = \"a\"\n",
    "pattern = re.compile(\"^(/wiki/)[A-z]*(?!:)$\")\n",
    "attribute = {\"href\":pattern, \"class\":''}\n",
    "links = obj.findAll(tag, attribute)"
   ]
  },
  {
   "cell_type": "code",
   "execution_count": 131,
   "metadata": {},
   "outputs": [
    {
     "name": "stdout",
     "output_type": "stream",
     "text": [
      "281\n"
     ]
    }
   ],
   "source": [
    "print(len(obj.findAll(tag, attribute)))"
   ]
  },
  {
   "cell_type": "code",
   "execution_count": 132,
   "metadata": {},
   "outputs": [
    {
     "data": {
      "text/plain": [
       "{'href': '/wiki/Philadelphia', 'title': 'Philadelphia'}"
      ]
     },
     "execution_count": 132,
     "metadata": {},
     "output_type": "execute_result"
    }
   ],
   "source": [
    "links[0]"
   ]
  },
  {
   "cell_type": "code",
   "execution_count": null,
   "metadata": {},
   "outputs": [],
   "source": []
  }
 ],
 "metadata": {
  "kernelspec": {
   "display_name": "Python 3",
   "language": "python",
   "name": "python3"
  },
  "language_info": {
   "codemirror_mode": {
    "name": "ipython",
    "version": 3
   },
   "file_extension": ".py",
   "mimetype": "text/x-python",
   "name": "python",
   "nbconvert_exporter": "python",
   "pygments_lexer": "ipython3",
   "version": "3.7.6"
  }
 },
 "nbformat": 4,
 "nbformat_minor": 4
}
