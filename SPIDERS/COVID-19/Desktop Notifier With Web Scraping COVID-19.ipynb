{
 "cells": [
  {
   "cell_type": "code",
   "execution_count": 174,
   "metadata": {},
   "outputs": [],
   "source": [
    "from urllib.request import urlopen, Request\n",
    "from bs4 import BeautifulSoup as bs\n",
    "from win10toast import ToastNotifier"
   ]
  },
  {
   "cell_type": "markdown",
   "metadata": {},
   "source": [
    "class covid():\n",
    "    def __init__(self):\n",
    "        "
   ]
  },
  {
   "cell_type": "code",
   "execution_count": 189,
   "metadata": {},
   "outputs": [
    {
     "data": {
      "text/plain": [
       "<http.client.HTTPResponse at 0x218ef3bc788>"
      ]
     },
     "execution_count": 189,
     "metadata": {},
     "output_type": "execute_result"
    }
   ],
   "source": [
    "# https://stackoverflow.com/questions/13303449/urllib2-httperror-http-error-403-forbidden\n",
    "hdr = {'User-Agent': 'Mozilla'}\n",
    "req = Request(\"https://www.worldometers.info/coronavirus/country/india/\", headers=hdr) # without user-agent we will get HTTP error\n",
    "html = urlopen(req)\n",
    "html"
   ]
  },
  {
   "cell_type": "code",
   "execution_count": 190,
   "metadata": {},
   "outputs": [],
   "source": [
    "obj = bs(html, features=\"lxml\")"
   ]
  },
  {
   "cell_type": "code",
   "execution_count": 191,
   "metadata": {},
   "outputs": [
    {
     "data": {
      "text/plain": [
       "[<div class=\"news_post\">\n",
       " <div class=\"news_body\">\n",
       " <ul class=\"news_ul\"><li class=\"news_li\"><strong>2,963 new cases</strong> and <strong>127 new deaths</strong> in <strong><a href=\"/coronavirus/country/india/\" style=\"text-decoration: underline;\">India</a></strong> <span class=\"source\">[<a class=\"news_source_a\" href=\"https://www.mohfw.gov.in/\" target=\"_blank\">source</a>]</span> <span class=\"source\">[<a class=\"news_source_a\" href=\"https://twitter.com/PIBMumbai/status/1257715591462424577\" target=\"_blank\">source</a>]</span> <span class=\"source\">[<a class=\"news_source_a\" href=\"https://twitter.com/PIBAhmedabad/status/1257675539319599110\" target=\"_blank\">source</a>]</span> <span class=\"source\">[<a class=\"news_source_a\" href=\"https://twitter.com/PIBJaipur/status/1257516995056041984\" target=\"_blank\">source</a>]</span> <span class=\"source\">[<a class=\"news_source_a\" href=\"https://stopcorona.tn.gov.in/\" target=\"_blank\">source</a>]</span> <span class=\"source\">[<a class=\"news_source_a\" href=\"https://www.covid19india.org/\" target=\"_blank\">source</a>]</span></li></ul>\n",
       " </div>\n",
       " </div>]"
      ]
     },
     "execution_count": 191,
     "metadata": {},
     "output_type": "execute_result"
    }
   ],
   "source": [
    "list(obj.find(\"span\", {\"id\":\"updates\"}).next_siblings)"
   ]
  },
  {
   "cell_type": "code",
   "execution_count": 192,
   "metadata": {},
   "outputs": [
    {
     "data": {
      "text/plain": [
       "'2,963'"
      ]
     },
     "execution_count": 192,
     "metadata": {},
     "output_type": "execute_result"
    }
   ],
   "source": [
    "new_cases = obj.find(\"li\",{\"class\":\"news_li\"}).strong.text.split()[0]  #new cases\n",
    "obj.find(\"li\",{\"class\":\"news_li\"}).strong.text.split()[0]"
   ]
  },
  {
   "cell_type": "code",
   "execution_count": 193,
   "metadata": {},
   "outputs": [
    {
     "data": {
      "text/plain": [
       "'127'"
      ]
     },
     "execution_count": 193,
     "metadata": {},
     "output_type": "execute_result"
    }
   ],
   "source": [
    "death = (list(obj.find(\"li\", {\"class\":\"news_li\"}).strong.next_siblings)[1]).text.split()[0]  #death\n",
    "(list(obj.find(\"li\", {\"class\":\"news_li\"}).strong.next_siblings)[1]).text.split()[0]"
   ]
  },
  {
   "cell_type": "code",
   "execution_count": 194,
   "metadata": {},
   "outputs": [],
   "source": [
    "notifier = ToastNotifier()"
   ]
  },
  {
   "cell_type": "code",
   "execution_count": 195,
   "metadata": {},
   "outputs": [
    {
     "data": {
      "text/plain": [
       "True"
      ]
     },
     "execution_count": 195,
     "metadata": {},
     "output_type": "execute_result"
    }
   ],
   "source": [
    "message = \"New Cases - \"+new_cases+\"\\nDeath - \"+death\n",
    "notifier.show_toast(title=\"COVID-19 Updates\", msg=message, duration=5, icon_path=r\"virus.ico\")"
   ]
  }
 ],
 "metadata": {
  "kernelspec": {
   "display_name": "Python 3",
   "language": "python",
   "name": "python3"
  },
  "language_info": {
   "codemirror_mode": {
    "name": "ipython",
    "version": 3
   },
   "file_extension": ".py",
   "mimetype": "text/x-python",
   "name": "python",
   "nbconvert_exporter": "python",
   "pygments_lexer": "ipython3",
   "version": "3.7.6"
  }
 },
 "nbformat": 4,
 "nbformat_minor": 4
}
