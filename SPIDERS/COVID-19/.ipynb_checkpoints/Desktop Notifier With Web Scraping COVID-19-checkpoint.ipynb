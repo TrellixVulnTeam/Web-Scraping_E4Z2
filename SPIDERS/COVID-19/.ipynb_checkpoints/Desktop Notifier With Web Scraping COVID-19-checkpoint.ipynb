{
 "cells": [
  {
   "cell_type": "code",
   "execution_count": 161,
   "metadata": {},
   "outputs": [],
   "source": [
    "from urllib.request import urlopen, Request\n",
    "from bs4 import BeautifulSoup as bs\n",
    "from win10toast import ToastNotifier"
   ]
  },
  {
   "cell_type": "markdown",
   "metadata": {},
   "source": [
    "class covid():\n",
    "    def __init__(self):\n",
    "        "
   ]
  },
  {
   "cell_type": "code",
   "execution_count": 162,
   "metadata": {},
   "outputs": [
    {
     "data": {
      "text/plain": [
       "<http.client.HTTPResponse at 0x218ef2b8848>"
      ]
     },
     "execution_count": 162,
     "metadata": {},
     "output_type": "execute_result"
    }
   ],
   "source": [
    "# https://stackoverflow.com/questions/13303449/urllib2-httperror-http-error-403-forbidden\n",
    "hdr = {'User-Agent': 'Mozilla/5.0 (X11; Linux x86_64) AppleWebKit/537.11 (KHTML, like Gecko) Chrome/23.0.1271.64 Safari/537.11'}\n",
    "req = Request(\"https://www.worldometers.info/coronavirus/country/india/\", headers=hdr) # without user-agent we will get HTTP error\n",
    "html = urlopen(req)\n",
    "html"
   ]
  },
  {
   "cell_type": "code",
   "execution_count": 163,
   "metadata": {},
   "outputs": [],
   "source": [
    "obj = bs(html)"
   ]
  },
  {
   "cell_type": "code",
   "execution_count": 165,
   "metadata": {},
   "outputs": [
    {
     "data": {
      "text/plain": [
       "[<div class=\"news_post\">\n",
       " <div class=\"news_body\">\n",
       " <ul class=\"news_ul\"><li class=\"news_li\"><strong>39 new cases</strong> and <strong>5 new deaths</strong> in <strong><a href=\"/coronavirus/country/india/\" style=\"text-decoration: underline;\">India</a></strong> <span class=\"source\">[<a class=\"news_source_a\" href=\"https://www.mohfw.gov.in/\" target=\"_blank\">source</a>]</span> <span class=\"source\">[<a class=\"news_source_a\" href=\"https://twitter.com/PIBJaipur/status/1257516995056041984\" target=\"_blank\">source</a>]</span> <span class=\"source\">[<a class=\"news_source_a\" href=\"https://www.covid19india.org\" target=\"_blank\">source</a>]</span></li></ul>\n",
       " </div>\n",
       " </div>]"
      ]
     },
     "execution_count": 165,
     "metadata": {},
     "output_type": "execute_result"
    }
   ],
   "source": [
    "list(obj.find(\"span\", {\"id\":\"updates\"}).next_siblings)"
   ]
  },
  {
   "cell_type": "code",
   "execution_count": 166,
   "metadata": {},
   "outputs": [
    {
     "data": {
      "text/plain": [
       "'39'"
      ]
     },
     "execution_count": 166,
     "metadata": {},
     "output_type": "execute_result"
    }
   ],
   "source": [
    "new_cases = obj.find(\"li\",{\"class\":\"news_li\"}).strong.text.split()[0]  #new cases\n",
    "obj.find(\"li\",{\"class\":\"news_li\"}).strong.text.split()[0]"
   ]
  },
  {
   "cell_type": "code",
   "execution_count": 167,
   "metadata": {},
   "outputs": [
    {
     "data": {
      "text/plain": [
       "'5'"
      ]
     },
     "execution_count": 167,
     "metadata": {},
     "output_type": "execute_result"
    }
   ],
   "source": [
    "death = (list(obj.find(\"li\", {\"class\":\"news_li\"}).strong.next_siblings)[1]).text.split()[0]  #death\n",
    "(list(obj.find(\"li\", {\"class\":\"news_li\"}).strong.next_siblings)[1]).text.split()[0]"
   ]
  },
  {
   "cell_type": "code",
   "execution_count": 168,
   "metadata": {},
   "outputs": [],
   "source": [
    "notifier = ToastNotifier()"
   ]
  },
  {
   "cell_type": "code",
   "execution_count": 169,
   "metadata": {},
   "outputs": [
    {
     "data": {
      "text/plain": [
       "True"
      ]
     },
     "execution_count": 169,
     "metadata": {},
     "output_type": "execute_result"
    }
   ],
   "source": [
    "message = \"New Cases - \"+new_cases+\"\\nDeath - \"+death\n",
    "notifier.show_toast(title=\"COVID-19 Updates\", msg=message, duration=5, icon_path=r\"virus.ico\")"
   ]
  },
  {
   "cell_type": "markdown",
   "metadata": {},
   "source": [
    "E:\\PROJ.RC\\__operational files__\\github repo\\Web Scraping\\SPIDERS\\COVID-19\\Desktop Notifier With Web Scraping COVID-19.py:29: UserWarning: No parser was explicitly specified, so I'm using the best available HTML parser for this system (\"lxml\"). This usually isn't a problem, but if you run this code on another system, or in a different virtual environment, it may use a different parser and behave differently.\n",
    "\n",
    "The code that caused this warning is on line 29 of the file E:\\PROJ.RC\\__operational files__\\github repo\\Web Scraping\\SPIDERS\\COVID-19\\Desktop Notifier With Web Scraping COVID-19.py. To get rid of this warning, pass the additional argument 'features=\"lxml\"' to the BeautifulSoup constructor.\n",
    "\n",
    "  obj = bs(html)\n",
    "ERROR:root:Some trouble with the icon (E:\\dev\\uploaded\\virus.ico): (2, 'LoadImage', 'The system cannot find the file specified.')\n"
   ]
  }
 ],
 "metadata": {
  "kernelspec": {
   "display_name": "Python 3",
   "language": "python",
   "name": "python3"
  },
  "language_info": {
   "codemirror_mode": {
    "name": "ipython",
    "version": 3
   },
   "file_extension": ".py",
   "mimetype": "text/x-python",
   "name": "python",
   "nbconvert_exporter": "python",
   "pygments_lexer": "ipython3",
   "version": "3.7.6"
  }
 },
 "nbformat": 4,
 "nbformat_minor": 4
}
